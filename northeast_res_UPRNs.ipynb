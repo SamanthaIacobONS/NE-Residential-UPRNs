{
 "cells": [
  {
   "cell_type": "markdown",
   "metadata": {},
   "source": [
    "## Changes in residential UPRNs in the North East Region\n",
    "\n",
    "This workbook includes two tools - one creates static matplotlib maps of the NE region, using text inputs for years and the area you want to focus on. The second tool does the same thing using an interactive map and panel widgets.\n",
    "\n",
    "Author - Samantha Iacob\n",
    "\n",
    "Last Updated - 30/4/2024"
   ]
  },
  {
   "cell_type": "markdown",
   "metadata": {},
   "source": [
    "The cells from here on will require geopackages to be installed on your machine! A guide to installing the modules you'll need is located [here on the ONS geospatial training repository on GitHub](https://github.com/ONSgeo/geospatial-training/blob/master/_docs/guides/python_install_anaconda.md)."
   ]
  },
  {
   "cell_type": "code",
   "execution_count": null,
   "metadata": {
    "scrolled": true
   },
   "outputs": [],
   "source": [
    "#Run this block first\n",
    "import panel as pn\n",
    "pn.extension()\n",
    "import pandas as pd\n",
    "pd.options.mode.chained_assignment = None  # default='warn' (turns off an annoying warning)\n",
    "import geopandas as gpd\n",
    "import shapely\n",
    "import matplotlib.pyplot as plt\n",
    "import mapclassify\n",
    "from mapclassify import Quantiles, UserDefined\n",
    "from matplotlib import cm\n",
    "import numpy as np\n",
    "from pathlib import Path\n",
    "%matplotlib inline\n",
    "BASE = Path('.').resolve() #Set path\n",
    "import folium # additional modules\n",
    "from pyproj import CRS\n",
    "import requests\n",
    "from folium.features import GeoJsonPopup, GeoJsonTooltip"
   ]
  },
  {
   "cell_type": "markdown",
   "metadata": {},
   "source": [
    "Loading the data needed - a shapefile which contains the stats and geodata for mapping."
   ]
  },
  {
   "cell_type": "code",
   "execution_count": null,
   "metadata": {},
   "outputs": [],
   "source": [
    "msoa_stats = gpd.read_file(\"data/ne_msoa_uprns.shp\").dropna() # importing data shapefile\n",
    "msoa_23_bg = msoa_stats.dropna().assign(group = 1) # creating the background image for the first tool.\n",
    "msoa_23_bg = msoa_23_bg.dissolve(by = 'group')"
   ]
  },
  {
   "cell_type": "markdown",
   "metadata": {},
   "source": [
    "Press run in the cell below for the first chart. It will ask for starting year, end year and area as inputs"
   ]
  },
  {
   "cell_type": "code",
   "execution_count": null,
   "metadata": {},
   "outputs": [],
   "source": [
    "\n",
    "def change_pct(start_year, end_year, area, gdf = msoa_stats):\n",
    "    if area != 'North East Region':\n",
    "        gdf = gdf[gdf.MSOA21NM.str.startswith(area)]\n",
    "    #gdf['change'] = round((gdf[f'UPRNs_{end_year}'] / gdf[f'UPRNs_{start_year}'] - 1) * 100, 2) # incorrect % formula \n",
    "    gdf['change'] = ((gdf[f'UPRNs_{end_year}']-gdf[f'UPRNs_{start_year}']) / gdf[f'UPRNs_{start_year}']*100)\n",
    "    return gdf\n",
    "#creating a list of areas with the MSOA number stripped out\n",
    "area_list = sorted(msoa_stats['MSOA21NM'].str[:-4].unique().tolist())\n",
    "area_list.insert(0, 'North East Region')\n",
    "\n",
    "#takes two years and a region as input\n",
    "year_list = [2020,2021,2022,2023,2024]\n",
    "while True:\n",
    "    start_year = int(input(f'Enter starting year between {year_list[0]} and {year_list[-2]}: '))\n",
    "    end_year = int(input(f'Enter ending year between {start_year + 1} and {year_list[-1]}: '))\n",
    "    if start_year in year_list and end_year in year_list and end_year > start_year:\n",
    "        break\n",
    "while True:\n",
    "    area = input('Area name (Leave blank for all or type area name, \\'L\\' for list): ')\n",
    "    if area.upper() == 'L':\n",
    "        count = 0\n",
    "        for area in area_list:\n",
    "            print(f\"{count} : {area}\")\n",
    "            count += 1\n",
    "    elif area == \"\" or area == \"0\":\n",
    "        area = 'North East Region'\n",
    "        break\n",
    "    elif area in area_list:\n",
    "            break\n",
    "    \n",
    "    try: \n",
    "        area = area_list[int(area)]\n",
    "    except ValueError:\n",
    "        pass\n",
    "    else:\n",
    "        break\n",
    "        \n",
    "if area == 'North East Region':\n",
    "    line = 0.2\n",
    "else:\n",
    "    line = 0.75\n",
    "        \n",
    "fig, ax = plt.subplots(figsize=(15, 15))\n",
    "if area == \"North East Region\":\n",
    "    msoa_23_bg.plot(ax = ax, color = 'grey', edgecolor = 'black', linewidth = 0.5)\n",
    "    fig.text(0.22,0.131,'Contains OS data © Crown copyright 2024')\n",
    "    fig.text(0.22,0.116, 'Source: ONS, licensed under the open Government license v3.0')\n",
    "    \n",
    "try: \n",
    "    ax = change_pct(start_year,end_year, area, msoa_stats).plot(column='change',\n",
    "                                                      linewidth = line,\n",
    "                                                      edgecolor = 'k',\n",
    "                                                      cmap = 'viridis',\n",
    "                                                      scheme=\"User_Defined\", \n",
    "                                                      classification_kwds={'bins':[-30,-10, -8, -6, -4, -2, 0, 2, 4, 6, 8, 10, 30]}, \n",
    "                                                      #scheme='Equal_Interval',\n",
    "                                                      #k = 5,\n",
    "                                                      legend=True,\n",
    "                                                      legend_kwds = {'title' : 'Change (%)'},\n",
    "                                                      missing_kwds = {'color' : 'grey', 'label' : 'missing values'},\n",
    "                                                      ax=ax)\n",
    "except: \n",
    "    print(f'/nError - no information available for {area} in time period')\n",
    "\n",
    "plt.title(f'Percentage change in {area} residential UPRNs, {start_year} - {end_year}', size = 12)\n"
   ]
  },
  {
   "cell_type": "markdown",
   "metadata": {},
   "source": [
    "The cell below is the code for the second tool. Please run it and the cell below (output will open in a new tab)"
   ]
  },
  {
   "cell_type": "code",
   "execution_count": null,
   "metadata": {
    "scrolled": true
   },
   "outputs": [],
   "source": [
    "gdf = msoa_stats.copy()\n",
    "gdf['geometry'] = gdf['geometry'].simplify(25) #speeding up performance at the cost of some appearance.\n",
    "\n",
    "#creating panel features\n",
    "# As I want to use two dates which have been saved as integers, the IntRange Slider is a good choice\n",
    "year_slider = pn.widgets.IntRangeSlider(name='Year Range', \n",
    "                                        start=2020, \n",
    "                                        end=2024, \n",
    "                                        value=(2020, 2024), \n",
    "                                        value_throttled=(2020,2024)\n",
    "                                       )\n",
    "\n",
    "#creating a list and a drop down menu based off the list.\n",
    "msoa_list = gdf['MSOA21NM'].str[:-4].unique().tolist()   \n",
    "msoa_list.insert(0, 'All North East')\n",
    "msoa_selector = pn.widgets.Select(name='Area', options=msoa_list)\n",
    "\n",
    "# Function to use the details from these widgets to generate the change column\n",
    "def year_change(gdf = gdf, year = year_slider, area = msoa_selector):\n",
    "    if area != 'All North East':\n",
    "        gdf = gdf[gdf.MSOA21NM.str.startswith(area)]\n",
    "    gdf['change'] = round(((gdf[f'UPRNs_{year[1]}']-gdf[f'UPRNs_{year[0]}']) / gdf[f'UPRNs_{year[0]}']) * 100,2)\n",
    "    return years_map(gdf)\n",
    "\n",
    "#Defining a function which creates the map and passes it back to panel as a pane.\n",
    "\n",
    "def years_map(map_gdf):\n",
    "    \n",
    "    m = map_gdf.dropna().explore(\"change\",\n",
    "                        cmap = \"viridis\",\n",
    "                        #width = 500,\n",
    "                        #height = 800,\n",
    "                        \n",
    "                        tiles = \"CartoDB positron\",\n",
    "                        tooltip = [\"MSOA21NM\", f\"UPRNs_{year_slider.value[0]}\", f\"UPRNs_{year_slider.value[1]}\", \"change\"],\n",
    "                        #scheme=\"UserDefined\", \n",
    "                        #classification_kwds= {'bins':[-20,-10, -8, -6, -4, -2, 0, 2, 4, 6, 8, 10, 20]},\n",
    "                        scheme = 'equalinterval',\n",
    "                        k = 8,\n",
    "                        #vmin  = - 30,\n",
    "                        #vmax = 30,\n",
    "                        style_kwds = {\n",
    "                                      'stroke' : True, \n",
    "                                      'color' : \"Black\", \n",
    "                                      'weight' : 1.0, \n",
    "                                      'opacity' : 1,\n",
    "                                      #'fill' : True, \n",
    "                                      'fillOpacity' : 0.7},\n",
    "                        tooltip_kwds = {'aliases' : [\"MSOA:\", \n",
    "                                                    f\"{year_slider.value[0]} residential UPRNs:\", \n",
    "                                                    f\"{year_slider.value[1]} residential UPRNs:\", \n",
    "                                                    \"% change:\"]\n",
    "                                        },\n",
    "                        legend_kwds = {'caption' : f'Change (%) from {year_slider.value[0]} to {year_slider.value[1]}',\n",
    "                                      #\"colorbar\" : True,\n",
    "                                      #\"scale\" : False,\n",
    "                                      #\"fmt\" : \"{:.0f}\", \n",
    "                                      },\n",
    "                        map_kwds = {'dragging' : True, \n",
    "                                    'scrollWheelZoom' : True}, #this is a detailed map so it's nice to give ppl more control\n",
    "                        zoom_control=True \n",
    "                        )\n",
    "    return pn.Column(\n",
    "        pn.pane.HTML(m._repr_html_(), sizing_mode = \"scale_both\"), # :)\n",
    "    )\n",
    "#laying out dash\n",
    "layout = pn.interact(year_change)\n",
    "\n",
    "dash = pn.Column(pn.Row(f'## Percentage change in residential UPRNs in North East region between selected years)', layout[0]), layout[1])"
   ]
  },
  {
   "cell_type": "code",
   "execution_count": null,
   "metadata": {
    "scrolled": true
   },
   "outputs": [],
   "source": [
    "dash.show()"
   ]
  }
 ],
 "metadata": {
  "kernelspec": {
   "display_name": "geopy38",
   "language": "python",
   "name": "geopy38"
  },
  "language_info": {
   "codemirror_mode": {
    "name": "ipython",
    "version": 3
   },
   "file_extension": ".py",
   "mimetype": "text/x-python",
   "name": "python",
   "nbconvert_exporter": "python",
   "pygments_lexer": "ipython3",
   "version": "3.8.19"
  }
 },
 "nbformat": 4,
 "nbformat_minor": 4
}
